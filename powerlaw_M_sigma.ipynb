{
 "cells": [
  {
   "cell_type": "code",
   "execution_count": 1,
   "id": "3940b078",
   "metadata": {},
   "outputs": [],
   "source": [
    "import numpy as np\n",
    "import matplotlib.pyplot as plt\n",
    "import matplotlib as mpl\n",
    "from scipy.integrate import dblquad\n",
    "from scipy.constants import golden_ratio\n",
    "from scipy.interpolate import RegularGridInterpolator\n",
    "\n",
    "import astropy.constants as const\n",
    "import time\n",
    "import astropy.units as u\n",
    "\n",
    "from astropy.cosmology import LambdaCDM\n",
    "cosmo = LambdaCDM(H0=70, Om0=0.3, Ode0=0.7)\n",
    "\n",
    "import gwent\n",
    "import gwent.binary as binary\n",
    "import gwent.detector as detector\n",
    "import gwent.snr as snr\n",
    "\n",
    "#Turn off warnings for tutorial\n",
    "import warnings\n",
    "warnings.filterwarnings('ignore')"
   ]
  },
  {
   "cell_type": "code",
   "execution_count": 2,
   "id": "deeb4496",
   "metadata": {},
   "outputs": [],
   "source": [
    "#set matplotlub parameters\n",
    "def get_fig_size(width=7,scale=2.0):\n",
    "    #width = 3.36 # 242 pt\n",
    "    base_size = np.array([1, 1/scale/golden_ratio])\n",
    "    fig_size = width * base_size\n",
    "    return(fig_size)\n",
    "mpl.rcParams['figure.dpi'] = 300\n",
    "#mpl.rcParams['figure.figsize'] = get_fig_size()\n",
    "mpl.rcParams['text.usetex'] = True\n",
    "mpl.rc('font',**{'family':'serif','serif':['Times New Roman']})\n",
    "mpl.rcParams['lines.linewidth'] = 1.3\n",
    "mpl.rcParams['axes.labelsize'] = 12\n",
    "mpl.rcParams['xtick.labelsize'] = 10\n",
    "mpl.rcParams['ytick.labelsize'] = 10\n",
    "mpl.rcParams['legend.fontsize'] = 8"
   ]
  },
  {
   "cell_type": "markdown",
   "id": "60f546fc",
   "metadata": {},
   "source": [
    "The following constants will be useful for our calculations."
   ]
  },
  {
   "cell_type": "code",
   "execution_count": 3,
   "id": "ac7d329b",
   "metadata": {},
   "outputs": [],
   "source": [
    "#Redshifts\n",
    "z0 = 1e-2\n",
    "z_min = 30.0\n",
    "z_max = 5e3\n",
    "sigmaM_squared = 3.6*1e-5\n",
    "\n",
    "t0 = cosmo.age(z0).value #present age of universe in years in Gyr\n",
    "\n",
    "detector = 'ET'\n",
    "\n",
    "M_samples = np.load('SNRcalc/'+detector+'_SNR_IMRPhenomXAS_Mtot_array.npy')\n",
    "q_samples = np.load('SNRcalc/'+detector+'_SNR_IMRPhenomXAS_q_array.npy')"
   ]
  },
  {
   "cell_type": "markdown",
   "id": "66fdcfb3",
   "metadata": {},
   "source": [
    "We first code for $p_\\mathrm{det}$ by considering the function $P(\\omega)$"
   ]
  },
  {
   "cell_type": "markdown",
   "id": "600c1254",
   "metadata": {},
   "source": [
    "\\begin{equation}\n",
    "p_\\mathrm{det} = P(\\omega) = a^{(n)}_2[(1-\\omega/\\alpha^{(n)})^2] + a^{(n)}_4[(1-\\omega/\\alpha^{(n)})^4] + a^{(n)}_8[(1-\\omega/\\alpha^{(n)})^8] + (1 - a^{(n)}_2 - a^{(n)}_4 - a^{(n)}_8)[(1-\\omega/\\alpha^{(n)})^{10}],\n",
    "\\end{equation}"
   ]
  },
  {
   "cell_type": "markdown",
   "id": "1dd2295f",
   "metadata": {},
   "source": [
    "where the coefficients $a^{(n)}_i$ are fit parameters that vary depending on the number of detectors $n$ in the system, and $\\alpha^{(n)}$ is the maximum value of $\\omega$ for a given number of detectors. Since the LISA observatory is a three-detector system, our coefficients take the values: $a^{(3)}_2 = 1.19549$, $a^{(3)}_4 = 1.61758$, $a^{(3)}_8 = -4.87024$, $\\alpha^{(3)} = 1.4$."
   ]
  },
  {
   "cell_type": "code",
   "execution_count": 4,
   "id": "3ba8b690",
   "metadata": {},
   "outputs": [],
   "source": [
    "def cumulative_P(w):\n",
    "    a2 = .374222\n",
    "    a4 = 2.04216\n",
    "    a8 = -2.63948\n",
    "    alpha = 1.0\n",
    "    \n",
    "    w_final = np.where(w >= alpha, alpha, w)\n",
    "    signal = w_final/alpha\n",
    "    \n",
    "    P = a2*(np.power(1 - signal, 2.0)) + a4*(np.power(1 - signal, 4.)) + a8*(np.power(1 - signal,8.0)) + (1 - a2 - a4 - a8)*(np.power(1 - signal, 10.0))\n",
    "    \n",
    "    return P"
   ]
  },
  {
   "cell_type": "markdown",
   "id": "b18484cf",
   "metadata": {},
   "source": [
    "Note here that $w = \\rho_\\mathrm{thr}/\\rho_\\mathrm{opt}(M_1, M_2, z)$, where $\\rho_\\mathrm{thr} = 8$ is the minimum SNR usually accepted for a significant signal. In order to compute for $\\rho_\\mathrm{opt}(M_1, M_2, z)$, we utilize the GW observatory simulation package `gwent`. "
   ]
  },
  {
   "cell_type": "markdown",
   "id": "bbfa0346",
   "metadata": {},
   "source": [
    "(Source initialization will now be done externally.)"
   ]
  },
  {
   "cell_type": "code",
   "execution_count": 5,
   "id": "4c5abf8b",
   "metadata": {},
   "outputs": [],
   "source": [
    "def trapz_double(func, M_min, M_max, n=100):\n",
    "    \n",
    "    x_list = np.logspace(np.log10(M_min), np.log10(M_max), n)\n",
    "    y_list = np.logspace(np.log10(M_min), np.log10(M_max), n)\n",
    "    \n",
    "    X, Y= np.meshgrid(x_list, y_list, indexing='ij', sparse=True)\n",
    "    \n",
    "    f_comp = func(X, Y)\n",
    "\n",
    "    f_mean = f_comp.sum()/(len(f_comp)**2.0)\n",
    "    value = ((M_max - M_min)**2.0)*f_mean\n",
    "\n",
    "    return value"
   ]
  },
  {
   "cell_type": "code",
   "execution_count": 6,
   "id": "25bb764c-007a-4797-a8e6-ddc1b514aa4a",
   "metadata": {},
   "outputs": [],
   "source": [
    "\"\"\"\n",
    "Power law mass distribution model. Takes in PBH mass M as a variable. Reference mass M_c and width sigma are model parameters.\n",
    "\"\"\"\n",
    "\n",
    "def pl(M, M_min, M_max, gamma):\n",
    "    norm = gamma / (M_max**gamma - M_min**gamma)\n",
    "    return norm * M**(gamma - 1.0) "
   ]
  },
  {
   "cell_type": "code",
   "execution_count": 7,
   "id": "f42db038",
   "metadata": {},
   "outputs": [],
   "source": [
    "\"\"\"\n",
    "Average local number of neighbors N(y) in radius y for any pair of PBHs with masses M1 and M2 \n",
    "given the average mass M_ave of the distribution and initial PBH abundance f.\n",
    "\"\"\"\n",
    "def nbar(M_total, f, M_ave):\n",
    "    return (M_total/M_ave)*(f/(f + np.sqrt(sigmaM_squared)))"
   ]
  },
  {
   "cell_type": "code",
   "execution_count": 8,
   "id": "7a881324",
   "metadata": {},
   "outputs": [],
   "source": [
    "\"\"\"\n",
    "C(f): fitting function used to approximate the supression behaviour of supp1 at middling values of f.\n",
    "Takes in mass distribution average and variance as parameters.\n",
    "\"\"\"\n",
    "\n",
    "import scipy.special as sc\n",
    "\n",
    "def cfit(f, M_ave, M_var):\n",
    "    fs = np.power(f, 2.0)/sigmaM_squared\n",
    "    hyp = (0.255*sc.hyperu(21.0/74.0, 0.5, (5.0/6.0)*fs))**(-74.0/21.0)\n",
    "    \n",
    "    return (M_var/np.power(M_ave, 2.0))*fs/(hyp - 1.0)"
   ]
  },
  {
   "cell_type": "code",
   "execution_count": 9,
   "id": "153d1332",
   "metadata": {},
   "outputs": [],
   "source": [
    "\"\"\"\n",
    "S1(M1, M2, f): merger rate suppression due to DM and matter inhomogeneities in the local region of the binary.\n",
    "\"\"\"\n",
    "def supp1(M_total, f, M_ave, M_var):\n",
    "    factor = np.power((M_var/np.power(M_ave, 2.0))/(nbar(M_total, f, M_ave) + cfit(f, M_ave, M_var)) \n",
    "                    + sigmaM_squared/np.power(f,2.0), -21.0/74.0)\n",
    "    \n",
    "    return 1.42*factor*np.exp(-nbar(M_total, f, M_ave))"
   ]
  },
  {
   "cell_type": "code",
   "execution_count": 10,
   "id": "38fd97ac",
   "metadata": {},
   "outputs": [],
   "source": [
    "def supp2(z, f):\n",
    "    t = cosmo.age(z).value\n",
    "    x = np.power(t.flatten()/t0, 0.44)*0.85*f\n",
    "    \n",
    "    suppfactor = (9.6*1e-3)*np.power(x, -0.65)*np.exp(0.03*(np.log(x))**2.0)\n",
    "    \n",
    "    return [min(1.0, supp) for supp in suppfactor]"
   ]
  },
  {
   "cell_type": "code",
   "execution_count": 11,
   "id": "799b7163",
   "metadata": {},
   "outputs": [],
   "source": [
    "\"\"\"\n",
    "dR(M1, M2, z, f): differential merger rate of PBHs.\n",
    "\"\"\"\n",
    "def merger_rate_log(M1, M2, z, f, M_min, M_max, gamma):\n",
    "    t = cosmo.age(z).value\n",
    "    \n",
    "    M_tot = M1 + M2\n",
    "    M_square = M1*M2\n",
    "    \n",
    "    norm = gamma / (M_max**gamma - M_min**gamma)\n",
    "    M_ave = ((gamma + 1)**-1.0) * norm * (M_max**(gamma + 1.) - M_min**(gamma + 1.))\n",
    "    M_var = ((gamma + 2)**-1.0) * norm * (M_max**(gamma + 2.) - M_min**(gamma + 2.))\n",
    "    \n",
    "    f_dep = np.power(f, 53.0/37.0)\n",
    "    \n",
    "    M_factor = np.power(M_square/np.power(M_tot, 2.0), -34.0/37.0)\n",
    "    M_dep = np.power(M_tot, -32.0/37.0)\n",
    "    \n",
    "    t_dep = np.power(t/t0, -34.0/37.0)\n",
    "    \n",
    "    supp = supp1(M_tot, f, M_ave, M_var)*supp2(z, f)\n",
    "    \n",
    "    dists = pl(M1, M_min, M_max, gamma)*pl(M2, M_min, M_max, gamma)\n",
    "    \n",
    "    return (1.6*1e6)*f_dep*t_dep*M_factor*M_dep*supp*dists*(u.Gpc**-3.0)"
   ]
  },
  {
   "cell_type": "code",
   "execution_count": 12,
   "id": "53998a34",
   "metadata": {},
   "outputs": [],
   "source": [
    "def dN(M1, M2, z, f, M_min, M_max, gamma):\n",
    "    dV = cosmo.differential_comoving_volume(z).to(\"Gpc^3 / sr\")*4.0*np.pi*u.sr\n",
    "    a = cosmo.scale_factor(z)\n",
    "    \n",
    "    M_tot = M1 + M2\n",
    "    q_temp = M2/M1\n",
    "    q = np.where(q_temp >= 1, q_temp, 1.0/q_temp) \n",
    "    \n",
    "    pts = np.array([(ratio, mass) for mass, ratio in zip(M_tot.flatten(), q.flatten())])\n",
    "    \n",
    "    rho_thr = 8.0\n",
    "    rho_opt = SNR_interp(pts)\n",
    "\n",
    "    p_det = cumulative_P(rho_thr/rho_opt)\n",
    "    merge = merger_rate_log(M1, M2, z, f, M_min, M_max, gamma)\n",
    "    \n",
    "    res = merge.flatten()*p_det*dV*a\n",
    "\n",
    "    return res"
   ]
  },
  {
   "cell_type": "code",
   "execution_count": 13,
   "id": "680fe037",
   "metadata": {},
   "outputs": [],
   "source": [
    "def Ndet(M_min, M_max, z, f, gamma):\n",
    "    integ = lambda M1, M2: dN(M1, M2, z, f, M_min, M_max, gamma)\n",
    "\n",
    "    N_eval = trapz_double(integ, M_min, M_max, 200)\n",
    "    \n",
    "    return N_eval"
   ]
  },
  {
   "cell_type": "markdown",
   "id": "7008c648",
   "metadata": {},
   "source": [
    "We consider the mass range from $M_\\mathrm{min} \\sim 10\\,M_\\odot$ to $M_\\mathrm{max} \\approx 10^{10}\\,M_\\odot$ and the PBH abundance range $10^{-10} \\leq f_\\mathrm{PBH} \\leq 10^0$."
   ]
  },
  {
   "cell_type": "code",
   "execution_count": 14,
   "id": "5aeadbbd",
   "metadata": {},
   "outputs": [
    {
     "data": {
      "text/plain": [
       "'Redshift z = 5.076584485817265, gamma = -1.5517241379310345'"
      ]
     },
     "metadata": {},
     "output_type": "display_data"
    },
    {
     "data": {
      "text/plain": [
       "'Current loop progress: 100.0%, current mass: 1000000000.0 solar masses'"
      ]
     },
     "metadata": {},
     "output_type": "display_data"
    },
    {
     "ename": "KeyboardInterrupt",
     "evalue": "",
     "output_type": "error",
     "traceback": [
      "\u001b[0;31m---------------------------------------------------------------------------\u001b[0m",
      "\u001b[0;31mKeyboardInterrupt\u001b[0m                         Traceback (most recent call last)",
      "\u001b[0;32m<ipython-input-14-da48cbe40fb0>\u001b[0m in \u001b[0;36m<module>\u001b[0;34m\u001b[0m\n\u001b[1;32m     35\u001b[0m                 \u001b[0mfPBH_index\u001b[0m \u001b[0;34m=\u001b[0m \u001b[0mnp\u001b[0m\u001b[0;34m.\u001b[0m\u001b[0mwhere\u001b[0m\u001b[0;34m(\u001b[0m\u001b[0mfPBH_samples\u001b[0m \u001b[0;34m==\u001b[0m \u001b[0mfPBH\u001b[0m\u001b[0;34m)\u001b[0m\u001b[0;34m[\u001b[0m\u001b[0;36m0\u001b[0m\u001b[0;34m]\u001b[0m\u001b[0;34m[\u001b[0m\u001b[0;36m0\u001b[0m\u001b[0;34m]\u001b[0m\u001b[0;34m\u001b[0m\u001b[0;34m\u001b[0m\u001b[0m\n\u001b[1;32m     36\u001b[0m \u001b[0;34m\u001b[0m\u001b[0m\n\u001b[0;32m---> 37\u001b[0;31m                 \u001b[0mN\u001b[0m \u001b[0;34m=\u001b[0m \u001b[0mNdet\u001b[0m\u001b[0;34m(\u001b[0m\u001b[0mmass_min\u001b[0m\u001b[0;34m,\u001b[0m \u001b[0mmass_max\u001b[0m\u001b[0;34m,\u001b[0m \u001b[0mz\u001b[0m\u001b[0;34m,\u001b[0m \u001b[0mfPBH\u001b[0m\u001b[0;34m,\u001b[0m \u001b[0mgamma\u001b[0m\u001b[0;34m)\u001b[0m\u001b[0;34m\u001b[0m\u001b[0;34m\u001b[0m\u001b[0m\n\u001b[0m\u001b[1;32m     38\u001b[0m                 \u001b[0mN_array\u001b[0m\u001b[0;34m[\u001b[0m\u001b[0mmass_index\u001b[0m\u001b[0;34m]\u001b[0m\u001b[0;34m[\u001b[0m\u001b[0mfPBH_index\u001b[0m\u001b[0;34m]\u001b[0m\u001b[0;34m[\u001b[0m\u001b[0mz_index\u001b[0m\u001b[0;34m]\u001b[0m \u001b[0;34m=\u001b[0m \u001b[0mN\u001b[0m\u001b[0;34m\u001b[0m\u001b[0;34m\u001b[0m\u001b[0m\n\u001b[1;32m     39\u001b[0m                 \u001b[0minner_iter\u001b[0m \u001b[0;34m+=\u001b[0m\u001b[0;36m1\u001b[0m\u001b[0;34m\u001b[0m\u001b[0;34m\u001b[0m\u001b[0m\n",
      "\u001b[0;32m<ipython-input-13-41925da568cb>\u001b[0m in \u001b[0;36mNdet\u001b[0;34m(M_min, M_max, z, f, gamma)\u001b[0m\n\u001b[1;32m      2\u001b[0m     \u001b[0minteg\u001b[0m \u001b[0;34m=\u001b[0m \u001b[0;32mlambda\u001b[0m \u001b[0mM1\u001b[0m\u001b[0;34m,\u001b[0m \u001b[0mM2\u001b[0m\u001b[0;34m:\u001b[0m \u001b[0mdN\u001b[0m\u001b[0;34m(\u001b[0m\u001b[0mM1\u001b[0m\u001b[0;34m,\u001b[0m \u001b[0mM2\u001b[0m\u001b[0;34m,\u001b[0m \u001b[0mz\u001b[0m\u001b[0;34m,\u001b[0m \u001b[0mf\u001b[0m\u001b[0;34m,\u001b[0m \u001b[0mM_min\u001b[0m\u001b[0;34m,\u001b[0m \u001b[0mM_max\u001b[0m\u001b[0;34m,\u001b[0m \u001b[0mgamma\u001b[0m\u001b[0;34m)\u001b[0m\u001b[0;34m\u001b[0m\u001b[0;34m\u001b[0m\u001b[0m\n\u001b[1;32m      3\u001b[0m \u001b[0;34m\u001b[0m\u001b[0m\n\u001b[0;32m----> 4\u001b[0;31m     \u001b[0mN_eval\u001b[0m \u001b[0;34m=\u001b[0m \u001b[0mtrapz_double\u001b[0m\u001b[0;34m(\u001b[0m\u001b[0minteg\u001b[0m\u001b[0;34m,\u001b[0m \u001b[0mM_min\u001b[0m\u001b[0;34m,\u001b[0m \u001b[0mM_max\u001b[0m\u001b[0;34m,\u001b[0m \u001b[0;36m200\u001b[0m\u001b[0;34m)\u001b[0m\u001b[0;34m\u001b[0m\u001b[0;34m\u001b[0m\u001b[0m\n\u001b[0m\u001b[1;32m      5\u001b[0m \u001b[0;34m\u001b[0m\u001b[0m\n\u001b[1;32m      6\u001b[0m     \u001b[0;32mreturn\u001b[0m \u001b[0mN_eval\u001b[0m\u001b[0;34m\u001b[0m\u001b[0;34m\u001b[0m\u001b[0m\n",
      "\u001b[0;32m<ipython-input-5-4d2984bbf3f1>\u001b[0m in \u001b[0;36mtrapz_double\u001b[0;34m(func, M_min, M_max, n)\u001b[0m\n\u001b[1;32m      6\u001b[0m     \u001b[0mX\u001b[0m\u001b[0;34m,\u001b[0m \u001b[0mY\u001b[0m\u001b[0;34m=\u001b[0m \u001b[0mnp\u001b[0m\u001b[0;34m.\u001b[0m\u001b[0mmeshgrid\u001b[0m\u001b[0;34m(\u001b[0m\u001b[0mx_list\u001b[0m\u001b[0;34m,\u001b[0m \u001b[0my_list\u001b[0m\u001b[0;34m,\u001b[0m \u001b[0mindexing\u001b[0m\u001b[0;34m=\u001b[0m\u001b[0;34m'ij'\u001b[0m\u001b[0;34m,\u001b[0m \u001b[0msparse\u001b[0m\u001b[0;34m=\u001b[0m\u001b[0;32mTrue\u001b[0m\u001b[0;34m)\u001b[0m\u001b[0;34m\u001b[0m\u001b[0;34m\u001b[0m\u001b[0m\n\u001b[1;32m      7\u001b[0m \u001b[0;34m\u001b[0m\u001b[0m\n\u001b[0;32m----> 8\u001b[0;31m     \u001b[0mf_comp\u001b[0m \u001b[0;34m=\u001b[0m \u001b[0mfunc\u001b[0m\u001b[0;34m(\u001b[0m\u001b[0mX\u001b[0m\u001b[0;34m,\u001b[0m \u001b[0mY\u001b[0m\u001b[0;34m)\u001b[0m\u001b[0;34m\u001b[0m\u001b[0;34m\u001b[0m\u001b[0m\n\u001b[0m\u001b[1;32m      9\u001b[0m \u001b[0;34m\u001b[0m\u001b[0m\n\u001b[1;32m     10\u001b[0m     \u001b[0mf_mean\u001b[0m \u001b[0;34m=\u001b[0m \u001b[0mf_comp\u001b[0m\u001b[0;34m.\u001b[0m\u001b[0msum\u001b[0m\u001b[0;34m(\u001b[0m\u001b[0;34m)\u001b[0m\u001b[0;34m/\u001b[0m\u001b[0;34m(\u001b[0m\u001b[0mlen\u001b[0m\u001b[0;34m(\u001b[0m\u001b[0mf_comp\u001b[0m\u001b[0;34m)\u001b[0m\u001b[0;34m**\u001b[0m\u001b[0;36m2.0\u001b[0m\u001b[0;34m)\u001b[0m\u001b[0;34m\u001b[0m\u001b[0;34m\u001b[0m\u001b[0m\n",
      "\u001b[0;32m<ipython-input-13-41925da568cb>\u001b[0m in \u001b[0;36m<lambda>\u001b[0;34m(M1, M2)\u001b[0m\n\u001b[1;32m      1\u001b[0m \u001b[0;32mdef\u001b[0m \u001b[0mNdet\u001b[0m\u001b[0;34m(\u001b[0m\u001b[0mM_min\u001b[0m\u001b[0;34m,\u001b[0m \u001b[0mM_max\u001b[0m\u001b[0;34m,\u001b[0m \u001b[0mz\u001b[0m\u001b[0;34m,\u001b[0m \u001b[0mf\u001b[0m\u001b[0;34m,\u001b[0m \u001b[0mgamma\u001b[0m\u001b[0;34m)\u001b[0m\u001b[0;34m:\u001b[0m\u001b[0;34m\u001b[0m\u001b[0;34m\u001b[0m\u001b[0m\n\u001b[0;32m----> 2\u001b[0;31m     \u001b[0minteg\u001b[0m \u001b[0;34m=\u001b[0m \u001b[0;32mlambda\u001b[0m \u001b[0mM1\u001b[0m\u001b[0;34m,\u001b[0m \u001b[0mM2\u001b[0m\u001b[0;34m:\u001b[0m \u001b[0mdN\u001b[0m\u001b[0;34m(\u001b[0m\u001b[0mM1\u001b[0m\u001b[0;34m,\u001b[0m \u001b[0mM2\u001b[0m\u001b[0;34m,\u001b[0m \u001b[0mz\u001b[0m\u001b[0;34m,\u001b[0m \u001b[0mf\u001b[0m\u001b[0;34m,\u001b[0m \u001b[0mM_min\u001b[0m\u001b[0;34m,\u001b[0m \u001b[0mM_max\u001b[0m\u001b[0;34m,\u001b[0m \u001b[0mgamma\u001b[0m\u001b[0;34m)\u001b[0m\u001b[0;34m\u001b[0m\u001b[0;34m\u001b[0m\u001b[0m\n\u001b[0m\u001b[1;32m      3\u001b[0m \u001b[0;34m\u001b[0m\u001b[0m\n\u001b[1;32m      4\u001b[0m     \u001b[0mN_eval\u001b[0m \u001b[0;34m=\u001b[0m \u001b[0mtrapz_double\u001b[0m\u001b[0;34m(\u001b[0m\u001b[0minteg\u001b[0m\u001b[0;34m,\u001b[0m \u001b[0mM_min\u001b[0m\u001b[0;34m,\u001b[0m \u001b[0mM_max\u001b[0m\u001b[0;34m,\u001b[0m \u001b[0;36m200\u001b[0m\u001b[0;34m)\u001b[0m\u001b[0;34m\u001b[0m\u001b[0;34m\u001b[0m\u001b[0m\n\u001b[1;32m      5\u001b[0m \u001b[0;34m\u001b[0m\u001b[0m\n",
      "\u001b[0;32m<ipython-input-12-31f403fc7285>\u001b[0m in \u001b[0;36mdN\u001b[0;34m(M1, M2, z, f, M_min, M_max, gamma)\u001b[0m\n\u001b[1;32m      7\u001b[0m     \u001b[0mq\u001b[0m \u001b[0;34m=\u001b[0m \u001b[0mnp\u001b[0m\u001b[0;34m.\u001b[0m\u001b[0mwhere\u001b[0m\u001b[0;34m(\u001b[0m\u001b[0mq_temp\u001b[0m \u001b[0;34m>=\u001b[0m \u001b[0;36m1\u001b[0m\u001b[0;34m,\u001b[0m \u001b[0mq_temp\u001b[0m\u001b[0;34m,\u001b[0m \u001b[0;36m1.0\u001b[0m\u001b[0;34m/\u001b[0m\u001b[0mq_temp\u001b[0m\u001b[0;34m)\u001b[0m\u001b[0;34m\u001b[0m\u001b[0;34m\u001b[0m\u001b[0m\n\u001b[1;32m      8\u001b[0m \u001b[0;34m\u001b[0m\u001b[0m\n\u001b[0;32m----> 9\u001b[0;31m     \u001b[0mpts\u001b[0m \u001b[0;34m=\u001b[0m \u001b[0mnp\u001b[0m\u001b[0;34m.\u001b[0m\u001b[0marray\u001b[0m\u001b[0;34m(\u001b[0m\u001b[0;34m[\u001b[0m\u001b[0;34m(\u001b[0m\u001b[0mratio\u001b[0m\u001b[0;34m,\u001b[0m \u001b[0mmass\u001b[0m\u001b[0;34m)\u001b[0m \u001b[0;32mfor\u001b[0m \u001b[0mmass\u001b[0m\u001b[0;34m,\u001b[0m \u001b[0mratio\u001b[0m \u001b[0;32min\u001b[0m \u001b[0mzip\u001b[0m\u001b[0;34m(\u001b[0m\u001b[0mM_tot\u001b[0m\u001b[0;34m.\u001b[0m\u001b[0mflatten\u001b[0m\u001b[0;34m(\u001b[0m\u001b[0;34m)\u001b[0m\u001b[0;34m,\u001b[0m \u001b[0mq\u001b[0m\u001b[0;34m.\u001b[0m\u001b[0mflatten\u001b[0m\u001b[0;34m(\u001b[0m\u001b[0;34m)\u001b[0m\u001b[0;34m)\u001b[0m\u001b[0;34m]\u001b[0m\u001b[0;34m)\u001b[0m\u001b[0;34m\u001b[0m\u001b[0;34m\u001b[0m\u001b[0m\n\u001b[0m\u001b[1;32m     10\u001b[0m \u001b[0;34m\u001b[0m\u001b[0m\n\u001b[1;32m     11\u001b[0m     \u001b[0mrho_thr\u001b[0m \u001b[0;34m=\u001b[0m \u001b[0;36m8.0\u001b[0m\u001b[0;34m\u001b[0m\u001b[0;34m\u001b[0m\u001b[0m\n",
      "\u001b[0;31mKeyboardInterrupt\u001b[0m: "
     ]
    }
   ],
   "source": [
    "from IPython.display import display, clear_output\n",
    "import pandas as pd\n",
    "\n",
    "M_ref = np.logspace(1, 9, 100) #M_sun\n",
    "sigma = np.linspace(0.1, 5, 10)\n",
    "\n",
    "fPBH_samples = np.logspace(-10.0, 0.0, M_ref.size)\n",
    "z_space = np.logspace(np.log10(z0), np.log10(z_max), 100)\n",
    "\n",
    "start_time = time.time()\n",
    "loop_no = 0\n",
    "\n",
    "for sig in sigma:\n",
    "    gamma = -1.0 / sig\n",
    "    N_array = np.zeros((M_ref.size, fPBH_samples.size, z_space.size))\n",
    "    for z in z_space:\n",
    "        SNR_extract = np.load('SNRcalc/'+detector+'_SNR_IMRPhenomXAS_z'+str(z)+'.npy')\n",
    "        SNR_interp = RegularGridInterpolator((q_samples, M_samples), SNR_extract, method=\"nearest\", bounds_error=False, fill_value=0)\n",
    "        \n",
    "        z_index = np.where(z_space == z)[0][0]\n",
    "    \n",
    "        mass_min_array = M_ref * np.exp(1.0 / gamma)\n",
    "        mass_max_array = mass_min_array * 1e3\n",
    "        iteration = 0\n",
    "        for mass, mass_min, mass_max, in zip(M_ref, mass_min_array, mass_max_array):\n",
    "            \n",
    "            mass_index = np.where(M_ref == mass)[0][0]\n",
    "    \n",
    "            iteration += 1\n",
    "            iter_percent = (iteration/M_ref.size)*100.0\n",
    "    \n",
    "            inner_iter = 0\n",
    "            \n",
    "            for fPBH in fPBH_samples:\n",
    "                fPBH_index = np.where(fPBH_samples == fPBH)[0][0]\n",
    "                \n",
    "                N = Ndet(mass_min, mass_max, z, fPBH, gamma)\n",
    "                N_array[mass_index][fPBH_index][z_index] = N\n",
    "                inner_iter +=1\n",
    "                clear_output(wait=True)\n",
    "                display(\"Redshift z = \"+str(z)+\", gamma = \"+str(gamma),\n",
    "                        \"Current loop progress: \"+str(iter_percent)+\"%, current mass: \"+str(mass)+\" solar masses\")\n",
    "                time.sleep(0)\n",
    "                \n",
    "    np.save('powerlaw_gamma_minus_Ndet/'+detector+'_powerlaw_fPBH-mass_sigma'+str(sig)+'_1yr.npy', N_array)\n",
    "    \n",
    "end_time = time.time()\n",
    "\n",
    "print(\"Total runtime: \", end_time - start_time, \" seconds\")"
   ]
  }
 ],
 "metadata": {
  "kernelspec": {
   "display_name": "Python 3",
   "language": "python",
   "name": "python3"
  },
  "language_info": {
   "codemirror_mode": {
    "name": "ipython",
    "version": 3
   },
   "file_extension": ".py",
   "mimetype": "text/x-python",
   "name": "python",
   "nbconvert_exporter": "python",
   "pygments_lexer": "ipython3",
   "version": "3.8.8"
  }
 },
 "nbformat": 4,
 "nbformat_minor": 5
}
